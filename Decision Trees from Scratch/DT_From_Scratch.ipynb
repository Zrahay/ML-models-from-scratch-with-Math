{
 "cells": [
  {
   "cell_type": "code",
   "execution_count": 1,
   "id": "e741fc47-1eb6-4a60-a749-ab04db3ed026",
   "metadata": {},
   "outputs": [],
   "source": [
    "import pandas as pd\n",
    "import numpy as np\n",
    "import matplotlib.pyplot as plt\n",
    "import seaborn as sns\n",
    "\n"
   ]
  },
  {
   "cell_type": "code",
   "execution_count": 2,
   "id": "568514db-8fde-4c68-b85d-e6918135097c",
   "metadata": {},
   "outputs": [],
   "source": [
    "df = pd.read_csv(\"two_feature_classification_dataset.csv\")"
   ]
  },
  {
   "cell_type": "code",
   "execution_count": 3,
   "id": "7e5d981f-a3ff-4579-adc0-1a48655eb7a8",
   "metadata": {},
   "outputs": [],
   "source": [
    "vals1 = df['Feature1'].values"
   ]
  },
  {
   "cell_type": "code",
   "execution_count": 4,
   "id": "6b4b02a1-83fa-4833-97e0-433972482507",
   "metadata": {},
   "outputs": [],
   "source": [
    "vals2 = df['Feature2'].values\n",
    "target = df['Class'].values"
   ]
  },
  {
   "cell_type": "code",
   "execution_count": 5,
   "id": "6a2d980d-d37c-4213-be13-89b6e454fd3a",
   "metadata": {},
   "outputs": [
    {
     "data": {
      "text/html": [
       "<div>\n",
       "<style scoped>\n",
       "    .dataframe tbody tr th:only-of-type {\n",
       "        vertical-align: middle;\n",
       "    }\n",
       "\n",
       "    .dataframe tbody tr th {\n",
       "        vertical-align: top;\n",
       "    }\n",
       "\n",
       "    .dataframe thead th {\n",
       "        text-align: right;\n",
       "    }\n",
       "</style>\n",
       "<table border=\"1\" class=\"dataframe\">\n",
       "  <thead>\n",
       "    <tr style=\"text-align: right;\">\n",
       "      <th></th>\n",
       "      <th>Feature1</th>\n",
       "      <th>Feature2</th>\n",
       "      <th>Class</th>\n",
       "    </tr>\n",
       "  </thead>\n",
       "  <tbody>\n",
       "    <tr>\n",
       "      <th>0</th>\n",
       "      <td>2</td>\n",
       "      <td>3</td>\n",
       "      <td>0</td>\n",
       "    </tr>\n",
       "    <tr>\n",
       "      <th>1</th>\n",
       "      <td>1</td>\n",
       "      <td>5</td>\n",
       "      <td>0</td>\n",
       "    </tr>\n",
       "    <tr>\n",
       "      <th>2</th>\n",
       "      <td>4</td>\n",
       "      <td>2</td>\n",
       "      <td>0</td>\n",
       "    </tr>\n",
       "    <tr>\n",
       "      <th>3</th>\n",
       "      <td>6</td>\n",
       "      <td>7</td>\n",
       "      <td>1</td>\n",
       "    </tr>\n",
       "    <tr>\n",
       "      <th>4</th>\n",
       "      <td>7</td>\n",
       "      <td>8</td>\n",
       "      <td>1</td>\n",
       "    </tr>\n",
       "    <tr>\n",
       "      <th>5</th>\n",
       "      <td>5</td>\n",
       "      <td>6</td>\n",
       "      <td>1</td>\n",
       "    </tr>\n",
       "    <tr>\n",
       "      <th>6</th>\n",
       "      <td>3</td>\n",
       "      <td>4</td>\n",
       "      <td>0</td>\n",
       "    </tr>\n",
       "    <tr>\n",
       "      <th>7</th>\n",
       "      <td>8</td>\n",
       "      <td>9</td>\n",
       "      <td>1</td>\n",
       "    </tr>\n",
       "  </tbody>\n",
       "</table>\n",
       "</div>"
      ],
      "text/plain": [
       "   Feature1  Feature2  Class\n",
       "0         2         3      0\n",
       "1         1         5      0\n",
       "2         4         2      0\n",
       "3         6         7      1\n",
       "4         7         8      1\n",
       "5         5         6      1\n",
       "6         3         4      0\n",
       "7         8         9      1"
      ]
     },
     "execution_count": 5,
     "metadata": {},
     "output_type": "execute_result"
    }
   ],
   "source": [
    "df"
   ]
  },
  {
   "cell_type": "code",
   "execution_count": 6,
   "id": "d59c33b8-65a8-4563-a285-b17a2f28e6a6",
   "metadata": {},
   "outputs": [],
   "source": [
    "# Now we need to get the vals1, vals2 sorted in ascending order and also the class labels with them need to be bounded to them\n",
    "\n",
    "vals1_target = []\n",
    "vals2_target = []\n",
    "\n",
    "for i in range(len(vals1)):\n",
    "    vals1_target.append((vals1[i], target[i]))\n",
    "    vals2_target.append((vals2[i], target[i]))"
   ]
  },
  {
   "cell_type": "code",
   "execution_count": 7,
   "id": "0f7cec16-4ccd-422e-8521-c1b8936a2bea",
   "metadata": {},
   "outputs": [
    {
     "data": {
      "text/plain": [
       "[(2, 0), (1, 0), (4, 0), (6, 1), (7, 1), (5, 1), (3, 0), (8, 1)]"
      ]
     },
     "execution_count": 7,
     "metadata": {},
     "output_type": "execute_result"
    }
   ],
   "source": [
    "vals1_target"
   ]
  },
  {
   "cell_type": "code",
   "execution_count": 8,
   "id": "6b0ec790-7523-4e35-87e1-68087329a8eb",
   "metadata": {},
   "outputs": [],
   "source": [
    "vals1_target = sorted(vals1_target, key = lambda x:x[0])\n",
    "vals2_target = sorted(vals2_target, key = lambda x:x[0])"
   ]
  },
  {
   "cell_type": "code",
   "execution_count": 9,
   "id": "6c88155c-6c33-4de6-a378-ee28814a7564",
   "metadata": {},
   "outputs": [
    {
     "data": {
      "text/plain": [
       "[(1, 0), (2, 0), (3, 0), (4, 0), (5, 1), (6, 1), (7, 1), (8, 1)]"
      ]
     },
     "execution_count": 9,
     "metadata": {},
     "output_type": "execute_result"
    }
   ],
   "source": [
    "vals1_target"
   ]
  },
  {
   "cell_type": "code",
   "execution_count": 10,
   "id": "b55f5ecf-f92c-46ac-a78b-104a5a19131e",
   "metadata": {},
   "outputs": [
    {
     "data": {
      "text/plain": [
       "[(2, 0), (3, 0), (4, 0), (5, 0), (6, 1), (7, 1), (8, 1), (9, 1)]"
      ]
     },
     "execution_count": 10,
     "metadata": {},
     "output_type": "execute_result"
    }
   ],
   "source": [
    "vals2_target"
   ]
  },
  {
   "cell_type": "code",
   "execution_count": 11,
   "id": "9da30082-6947-4a41-8e5c-b26eaeccf8ec",
   "metadata": {},
   "outputs": [],
   "source": [
    "# Now we need to calculate the GI for these values that are mentioned here\n",
    "\n",
    "'''\n",
    "1. Average of the adjacent values\n",
    "2. Splitting based on these adjacent values\n",
    "3. Calculating the GI for each splitted node\n",
    "4. Find the total GI\n",
    "5. Do this for each avg\n",
    "6. Store them in a list\n",
    "7. Get the maximum Gain alongside the avg value that it was associated with and finally, end the game\n",
    "8. We also need to consider the fact that there are two features.\n",
    "'''\n",
    "\n",
    "\n",
    "\n",
    "vals1 = np.sort(vals1)\n",
    "vals2 = np.sort(vals2)\n",
    "\n",
    "avg_val1 = []\n",
    "i = 0\n",
    "for i in range(len(vals1) - 1):\n",
    "    avg = (vals1[i] + vals1[i + 1]) / 2\n",
    "    avg_val1.append(avg)"
   ]
  },
  {
   "cell_type": "code",
   "execution_count": 12,
   "id": "71c208ef-5bcc-425b-9b57-953f3f7378ec",
   "metadata": {},
   "outputs": [
    {
     "data": {
      "text/plain": [
       "[1.5, 2.5, 3.5, 4.5, 5.5, 6.5, 7.5]"
      ]
     },
     "execution_count": 12,
     "metadata": {},
     "output_type": "execute_result"
    }
   ],
   "source": [
    "avg_val1"
   ]
  },
  {
   "cell_type": "code",
   "execution_count": 13,
   "id": "adb0fbea-21ab-40db-885f-27fb4e3e9433",
   "metadata": {},
   "outputs": [],
   "source": [
    "for row in vals1_target:\n",
    "    featureval = row[0]\n",
    "    targetval = row[1]\n",
    "    break"
   ]
  },
  {
   "cell_type": "code",
   "execution_count": 14,
   "id": "a315e7a9-6908-4362-8b61-d03067181f98",
   "metadata": {},
   "outputs": [
    {
     "data": {
      "text/plain": [
       "(1, 0)"
      ]
     },
     "execution_count": 14,
     "metadata": {},
     "output_type": "execute_result"
    }
   ],
   "source": [
    "featureval, targetval"
   ]
  },
  {
   "cell_type": "code",
   "execution_count": 15,
   "id": "42a39acf-924e-40ec-b782-f63fe0c9f744",
   "metadata": {},
   "outputs": [
    {
     "data": {
      "text/plain": [
       "[1.5, 2.5, 3.5, 4.5, 5.5, 6.5, 7.5]"
      ]
     },
     "execution_count": 15,
     "metadata": {},
     "output_type": "execute_result"
    }
   ],
   "source": [
    "avg_val1"
   ]
  },
  {
   "cell_type": "code",
   "execution_count": 16,
   "id": "b117de91-f30e-4392-9eae-5112bfa069d1",
   "metadata": {},
   "outputs": [],
   "source": [
    "vals1 = np.sort(vals1)"
   ]
  },
  {
   "cell_type": "code",
   "execution_count": 17,
   "id": "a5d1a898-868d-4fd5-92fc-dbc603af73ae",
   "metadata": {},
   "outputs": [],
   "source": [
    "avg_val2 = []\n",
    "i = 0\n",
    "for i in range(len(vals2) - 1):\n",
    "    avg = (vals2[i] + vals2[i + 1]) / 2\n",
    "    avg_val2.append(avg)"
   ]
  },
  {
   "cell_type": "code",
   "execution_count": 18,
   "id": "43a9ae57-c4d4-4e71-b42f-5cb9239e59be",
   "metadata": {},
   "outputs": [
    {
     "data": {
      "text/plain": [
       "[2.5, 3.5, 4.5, 5.5, 6.5, 7.5, 8.5]"
      ]
     },
     "execution_count": 18,
     "metadata": {},
     "output_type": "execute_result"
    }
   ],
   "source": [
    "avg_val2"
   ]
  },
  {
   "cell_type": "code",
   "execution_count": 19,
   "id": "233d0197-85db-4e0c-a775-018d57c3df15",
   "metadata": {},
   "outputs": [],
   "source": [
    "avg_values = [avg_val1, avg_val2]"
   ]
  },
  {
   "cell_type": "code",
   "execution_count": 20,
   "id": "a9e42faf-7caf-43b1-a129-aa371125dd41",
   "metadata": {},
   "outputs": [],
   "source": [
    "features = [vals1_target, vals2_target]"
   ]
  },
  {
   "cell_type": "code",
   "execution_count": 32,
   "id": "ffe25419-011e-4578-be86-b622fa38d2d5",
   "metadata": {},
   "outputs": [],
   "source": [
    "def cal_gi(left, right, vals1_target):\n",
    "    # We need to keep track of the +ve samples and -ve samples in each nodes which have been split\n",
    "\n",
    "    # Take each node (left or right split) and search for it in the vals1_target and get it's label's value\n",
    "     # We can have 2 different loops for each split to do this\n",
    "\n",
    "    # For the left node\n",
    "    pos_left = 0\n",
    "    neg_left = 0\n",
    "    for i in range(len(left)):\n",
    "        for featureval, targetval in vals1_target:\n",
    "            if(featureval == left[i]):\n",
    "                if(targetval == 0):\n",
    "                    neg_left = neg_left + 1\n",
    "                else:\n",
    "                    pos_left = pos_left + 1\n",
    "    pos_right = 0\n",
    "    neg_right = 0\n",
    "    for i in range(len(right)):\n",
    "        for featureval, targetval in vals1_target:\n",
    "            if(featureval == right[i]):\n",
    "                if(targetval == 0):\n",
    "                    neg_right = neg_right + 1\n",
    "                else:\n",
    "                    pos_right = pos_right + 1\n",
    "    # Now we finally have the positive and negative values for the left split and the right split. \n",
    "    # The next step is to calculate the GI for each of the values of the split\n",
    "    total_left = pos_left + neg_left\n",
    "    total_right = pos_right + neg_right\n",
    "    gi_left = 0 if total_left == 0 else 1 - ((pos_left) / (pos_left + neg_left))**2 - ((neg_left) / (pos_left + neg_left))**2\n",
    "    gi_right = 0 if total_right == 0 else 1 - ((pos_right) / (pos_right + neg_right))**2 - ((neg_right) / (pos_right + neg_right))**2\n",
    "    total_sum = pos_left + neg_left + pos_right + neg_right\n",
    "    weighted_gi = 0 if total_sum == 0 else (((pos_left + neg_left) / (pos_left + neg_left + pos_right + neg_right)) * (gi_left)) + (((pos_right + neg_right) / (pos_left + neg_left + pos_right + neg_right)) * (gi_right))\n",
    "    return weighted_gi\n",
    "    "
   ]
  },
  {
   "cell_type": "code",
   "execution_count": 46,
   "id": "48f7d6fb-e15b-4e1a-a2bd-eee34fbd85c2",
   "metadata": {},
   "outputs": [
    {
     "name": "stdout",
     "output_type": "stream",
     "text": [
      "This is the current featureval 1\n",
      "This is the current average values 1.5\n",
      "This is the current featureval 2\n",
      "This is the current average values 1.5\n",
      "This is the current featureval 3\n",
      "This is the current average values 1.5\n",
      "This is the current featureval 4\n",
      "This is the current average values 1.5\n",
      "This is the current featureval 5\n",
      "This is the current average values 1.5\n",
      "This is the current featureval 6\n",
      "This is the current average values 1.5\n",
      "This is the current featureval 7\n",
      "This is the current average values 1.5\n",
      "This is the current featureval 8\n",
      "This is the current average values 1.5\n",
      "This is the value of final_gi 0.42857142857142866\n",
      "This is the current featureval 1\n",
      "This is the current average values 2.5\n",
      "This is the current featureval 2\n",
      "This is the current average values 2.5\n",
      "This is the current featureval 3\n",
      "This is the current average values 2.5\n",
      "This is the current featureval 4\n",
      "This is the current average values 2.5\n",
      "This is the current featureval 5\n",
      "This is the current average values 2.5\n",
      "This is the current featureval 6\n",
      "This is the current average values 2.5\n",
      "This is the current featureval 7\n",
      "This is the current average values 2.5\n",
      "This is the current featureval 8\n",
      "This is the current average values 2.5\n",
      "This is the value of final_gi 0.33333333333333337\n",
      "This is the current featureval 1\n",
      "This is the current average values 3.5\n",
      "This is the current featureval 2\n",
      "This is the current average values 3.5\n",
      "This is the current featureval 3\n",
      "This is the current average values 3.5\n",
      "This is the current featureval 4\n",
      "This is the current average values 3.5\n",
      "This is the current featureval 5\n",
      "This is the current average values 3.5\n",
      "This is the current featureval 6\n",
      "This is the current average values 3.5\n",
      "This is the current featureval 7\n",
      "This is the current average values 3.5\n",
      "This is the current featureval 8\n",
      "This is the current average values 3.5\n",
      "This is the value of final_gi 0.1999999999999999\n",
      "This is the current featureval 1\n",
      "This is the current average values 4.5\n",
      "This is the current featureval 2\n",
      "This is the current average values 4.5\n",
      "This is the current featureval 3\n",
      "This is the current average values 4.5\n",
      "This is the current featureval 4\n",
      "This is the current average values 4.5\n",
      "This is the current featureval 5\n",
      "This is the current average values 4.5\n",
      "This is the current featureval 6\n",
      "This is the current average values 4.5\n",
      "This is the current featureval 7\n",
      "This is the current average values 4.5\n",
      "This is the current featureval 8\n",
      "This is the current average values 4.5\n",
      "This is the value of final_gi 0.0\n",
      "This is the current featureval 1\n",
      "This is the current average values 5.5\n",
      "This is the current featureval 2\n",
      "This is the current average values 5.5\n",
      "This is the current featureval 3\n",
      "This is the current average values 5.5\n",
      "This is the current featureval 4\n",
      "This is the current average values 5.5\n",
      "This is the current featureval 5\n",
      "This is the current average values 5.5\n",
      "This is the current featureval 6\n",
      "This is the current average values 5.5\n",
      "This is the current featureval 7\n",
      "This is the current average values 5.5\n",
      "This is the current featureval 8\n",
      "This is the current average values 5.5\n",
      "This is the value of final_gi 0.1999999999999999\n",
      "This is the current featureval 1\n",
      "This is the current average values 6.5\n",
      "This is the current featureval 2\n",
      "This is the current average values 6.5\n",
      "This is the current featureval 3\n",
      "This is the current average values 6.5\n",
      "This is the current featureval 4\n",
      "This is the current average values 6.5\n",
      "This is the current featureval 5\n",
      "This is the current average values 6.5\n",
      "This is the current featureval 6\n",
      "This is the current average values 6.5\n",
      "This is the current featureval 7\n",
      "This is the current average values 6.5\n",
      "This is the current featureval 8\n",
      "This is the current average values 6.5\n",
      "This is the value of final_gi 0.3333333333333333\n",
      "This is the current featureval 1\n",
      "This is the current average values 7.5\n",
      "This is the current featureval 2\n",
      "This is the current average values 7.5\n",
      "This is the current featureval 3\n",
      "This is the current average values 7.5\n",
      "This is the current featureval 4\n",
      "This is the current average values 7.5\n",
      "This is the current featureval 5\n",
      "This is the current average values 7.5\n",
      "This is the current featureval 6\n",
      "This is the current average values 7.5\n",
      "This is the current featureval 7\n",
      "This is the current average values 7.5\n",
      "This is the current featureval 8\n",
      "This is the current average values 7.5\n",
      "This is the value of final_gi 0.4285714285714286\n",
      "This is the current featureval 2\n",
      "This is the current average values 2.5\n",
      "This is the current featureval 3\n",
      "This is the current average values 2.5\n",
      "This is the current featureval 4\n",
      "This is the current average values 2.5\n",
      "This is the current featureval 5\n",
      "This is the current average values 2.5\n",
      "This is the current featureval 6\n",
      "This is the current average values 2.5\n",
      "This is the current featureval 7\n",
      "This is the current average values 2.5\n",
      "This is the current featureval 8\n",
      "This is the current average values 2.5\n",
      "This is the current featureval 9\n",
      "This is the current average values 2.5\n",
      "This is the value of final_gi 0.42857142857142866\n",
      "This is the current featureval 2\n",
      "This is the current average values 3.5\n",
      "This is the current featureval 3\n",
      "This is the current average values 3.5\n",
      "This is the current featureval 4\n",
      "This is the current average values 3.5\n",
      "This is the current featureval 5\n",
      "This is the current average values 3.5\n",
      "This is the current featureval 6\n",
      "This is the current average values 3.5\n",
      "This is the current featureval 7\n",
      "This is the current average values 3.5\n",
      "This is the current featureval 8\n",
      "This is the current average values 3.5\n",
      "This is the current featureval 9\n",
      "This is the current average values 3.5\n",
      "This is the value of final_gi 0.33333333333333337\n",
      "This is the current featureval 2\n",
      "This is the current average values 4.5\n",
      "This is the current featureval 3\n",
      "This is the current average values 4.5\n",
      "This is the current featureval 4\n",
      "This is the current average values 4.5\n",
      "This is the current featureval 5\n",
      "This is the current average values 4.5\n",
      "This is the current featureval 6\n",
      "This is the current average values 4.5\n",
      "This is the current featureval 7\n",
      "This is the current average values 4.5\n",
      "This is the current featureval 8\n",
      "This is the current average values 4.5\n",
      "This is the current featureval 9\n",
      "This is the current average values 4.5\n",
      "This is the value of final_gi 0.1999999999999999\n",
      "This is the current featureval 2\n",
      "This is the current average values 5.5\n",
      "This is the current featureval 3\n",
      "This is the current average values 5.5\n",
      "This is the current featureval 4\n",
      "This is the current average values 5.5\n",
      "This is the current featureval 5\n",
      "This is the current average values 5.5\n",
      "This is the current featureval 6\n",
      "This is the current average values 5.5\n",
      "This is the current featureval 7\n",
      "This is the current average values 5.5\n",
      "This is the current featureval 8\n",
      "This is the current average values 5.5\n",
      "This is the current featureval 9\n",
      "This is the current average values 5.5\n",
      "This is the value of final_gi 0.0\n",
      "This is the current featureval 2\n",
      "This is the current average values 6.5\n",
      "This is the current featureval 3\n",
      "This is the current average values 6.5\n",
      "This is the current featureval 4\n",
      "This is the current average values 6.5\n",
      "This is the current featureval 5\n",
      "This is the current average values 6.5\n",
      "This is the current featureval 6\n",
      "This is the current average values 6.5\n",
      "This is the current featureval 7\n",
      "This is the current average values 6.5\n",
      "This is the current featureval 8\n",
      "This is the current average values 6.5\n",
      "This is the current featureval 9\n",
      "This is the current average values 6.5\n",
      "This is the value of final_gi 0.1999999999999999\n",
      "This is the current featureval 2\n",
      "This is the current average values 7.5\n",
      "This is the current featureval 3\n",
      "This is the current average values 7.5\n",
      "This is the current featureval 4\n",
      "This is the current average values 7.5\n",
      "This is the current featureval 5\n",
      "This is the current average values 7.5\n",
      "This is the current featureval 6\n",
      "This is the current average values 7.5\n",
      "This is the current featureval 7\n",
      "This is the current average values 7.5\n",
      "This is the current featureval 8\n",
      "This is the current average values 7.5\n",
      "This is the current featureval 9\n",
      "This is the current average values 7.5\n",
      "This is the value of final_gi 0.3333333333333333\n",
      "This is the current featureval 2\n",
      "This is the current average values 8.5\n",
      "This is the current featureval 3\n",
      "This is the current average values 8.5\n",
      "This is the current featureval 4\n",
      "This is the current average values 8.5\n",
      "This is the current featureval 5\n",
      "This is the current average values 8.5\n",
      "This is the current featureval 6\n",
      "This is the current average values 8.5\n",
      "This is the current featureval 7\n",
      "This is the current average values 8.5\n",
      "This is the current featureval 8\n",
      "This is the current average values 8.5\n",
      "This is the current featureval 9\n",
      "This is the current average values 8.5\n",
      "This is the value of final_gi 0.4285714285714286\n"
     ]
    }
   ],
   "source": [
    "# Now we need to iterate over every average value and we need to split the nodes according to that\n",
    "\n",
    "w_gi_final = []\n",
    "min_gi = 100000000000\n",
    "split_avg = 0\n",
    "\n",
    "for feature,avg_val in zip(features, avg_values):\n",
    "    w_gi = []\n",
    "    for avg in avg_val:\n",
    "        left = []\n",
    "        right = []\n",
    "        for featureval, targetval in feature:\n",
    "            print(f\"This is the current featureval {featureval}\")\n",
    "            print(f\"This is the current average values {avg}\")\n",
    "            if featureval < avg:\n",
    "                left.append(featureval)\n",
    "            else:\n",
    "                right.append(featureval)\n",
    "        # Now we have the correct splits in the left split and the right split lists\n",
    "        final_gi = cal_gi(left, right, feature)\n",
    "        print(f\"This is the value of final_gi {final_gi}\")\n",
    "        if final_gi < min_gi:\n",
    "            min_gi = final_gi\n",
    "            split_avg = avg\n",
    "    w_gi_final.append((min_gi, split_avg))\n",
    "    "
   ]
  },
  {
   "cell_type": "code",
   "execution_count": 47,
   "id": "5caf1c41-ef0d-4c3c-9d85-d135455c42a5",
   "metadata": {},
   "outputs": [
    {
     "data": {
      "text/plain": [
       "[(0.0, 4.5), (0.0, 4.5)]"
      ]
     },
     "execution_count": 47,
     "metadata": {},
     "output_type": "execute_result"
    }
   ],
   "source": [
    "w_gi_final"
   ]
  },
  {
   "cell_type": "code",
   "execution_count": 43,
   "id": "9fade2eb-01d3-406e-977f-0c233a7ea935",
   "metadata": {},
   "outputs": [
    {
     "data": {
      "text/html": [
       "<div>\n",
       "<style scoped>\n",
       "    .dataframe tbody tr th:only-of-type {\n",
       "        vertical-align: middle;\n",
       "    }\n",
       "\n",
       "    .dataframe tbody tr th {\n",
       "        vertical-align: top;\n",
       "    }\n",
       "\n",
       "    .dataframe thead th {\n",
       "        text-align: right;\n",
       "    }\n",
       "</style>\n",
       "<table border=\"1\" class=\"dataframe\">\n",
       "  <thead>\n",
       "    <tr style=\"text-align: right;\">\n",
       "      <th></th>\n",
       "      <th>Feature1</th>\n",
       "      <th>Feature2</th>\n",
       "      <th>Class</th>\n",
       "    </tr>\n",
       "  </thead>\n",
       "  <tbody>\n",
       "    <tr>\n",
       "      <th>0</th>\n",
       "      <td>2</td>\n",
       "      <td>3</td>\n",
       "      <td>0</td>\n",
       "    </tr>\n",
       "    <tr>\n",
       "      <th>1</th>\n",
       "      <td>1</td>\n",
       "      <td>5</td>\n",
       "      <td>0</td>\n",
       "    </tr>\n",
       "    <tr>\n",
       "      <th>2</th>\n",
       "      <td>4</td>\n",
       "      <td>2</td>\n",
       "      <td>0</td>\n",
       "    </tr>\n",
       "    <tr>\n",
       "      <th>3</th>\n",
       "      <td>6</td>\n",
       "      <td>7</td>\n",
       "      <td>1</td>\n",
       "    </tr>\n",
       "    <tr>\n",
       "      <th>4</th>\n",
       "      <td>7</td>\n",
       "      <td>8</td>\n",
       "      <td>1</td>\n",
       "    </tr>\n",
       "    <tr>\n",
       "      <th>5</th>\n",
       "      <td>5</td>\n",
       "      <td>6</td>\n",
       "      <td>1</td>\n",
       "    </tr>\n",
       "    <tr>\n",
       "      <th>6</th>\n",
       "      <td>3</td>\n",
       "      <td>4</td>\n",
       "      <td>0</td>\n",
       "    </tr>\n",
       "    <tr>\n",
       "      <th>7</th>\n",
       "      <td>8</td>\n",
       "      <td>9</td>\n",
       "      <td>1</td>\n",
       "    </tr>\n",
       "  </tbody>\n",
       "</table>\n",
       "</div>"
      ],
      "text/plain": [
       "   Feature1  Feature2  Class\n",
       "0         2         3      0\n",
       "1         1         5      0\n",
       "2         4         2      0\n",
       "3         6         7      1\n",
       "4         7         8      1\n",
       "5         5         6      1\n",
       "6         3         4      0\n",
       "7         8         9      1"
      ]
     },
     "execution_count": 43,
     "metadata": {},
     "output_type": "execute_result"
    }
   ],
   "source": [
    "df"
   ]
  },
  {
   "cell_type": "code",
   "execution_count": null,
   "id": "ce2b7dc4-3a96-4fec-85d7-23bd09ce63d8",
   "metadata": {},
   "outputs": [],
   "source": [
    "w_gi_final[1]"
   ]
  },
  {
   "cell_type": "code",
   "execution_count": null,
   "id": "b860224c-e0db-4d4d-a90e-489c13931391",
   "metadata": {},
   "outputs": [],
   "source": []
  }
 ],
 "metadata": {
  "kernelspec": {
   "display_name": "Python 3 (ipykernel)",
   "language": "python",
   "name": "python3"
  },
  "language_info": {
   "codemirror_mode": {
    "name": "ipython",
    "version": 3
   },
   "file_extension": ".py",
   "mimetype": "text/x-python",
   "name": "python",
   "nbconvert_exporter": "python",
   "pygments_lexer": "ipython3",
   "version": "3.12.7"
  }
 },
 "nbformat": 4,
 "nbformat_minor": 5
}
